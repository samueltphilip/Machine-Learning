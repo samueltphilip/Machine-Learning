{
 "cells": [
  {
   "cell_type": "code",
   "execution_count": 1,
   "id": "0d51d2f1",
   "metadata": {},
   "outputs": [
    {
     "name": "stdout",
     "output_type": "stream",
     "text": [
      "     Name      Surname  Age  Smokes  AreaQ  Alkhol  Result\n",
      "0    John         Wick   35       3      5       4       1\n",
      "1    John  Constantine   27      20      2       5       1\n",
      "2  Camela     Anderson   30       0      5       2       0\n",
      "3    Alex       Telles   28       0      8       1       0\n",
      "4   Diego     Maradona   68       4      5       6       1\n"
     ]
    }
   ],
   "source": [
    "# Running K-nearest neighbour, Naive bayes and Support Vector Machine algorithms on 'lung_cancer_examples.csv'\n",
    "# file from kaggle.com data sets.\n",
    "\n",
    "# importing libraries and file to be processed\n",
    "import numpy as np # numerical python\n",
    "import pandas as pd # data manipulation,cleaning and analysis\n",
    "lung=pd.read_csv(\"/home/samuel/Downloads/analysis_files/lung_cancer_examples.csv\") # reading file\n",
    "print(lung.head())"
   ]
  },
  {
   "cell_type": "code",
   "execution_count": 2,
   "id": "d77254d6",
   "metadata": {},
   "outputs": [
    {
     "name": "stdout",
     "output_type": "stream",
     "text": [
      "The number of classes Counter({0: 31, 1: 28})\n"
     ]
    }
   ],
   "source": [
    "# Selecting relevant columns and their rows\n",
    "x=lung.iloc[:,2:6].values #input label\n",
    "y=lung.iloc[:,-1].values #output label\n",
    "#count number of distinct outputs\n",
    "from collections import Counter\n",
    "print(\"The number of classes\",Counter(y)) # from output we see the data set is fully balanced"
   ]
  },
  {
   "cell_type": "code",
   "execution_count": 3,
   "id": "c4d57d61",
   "metadata": {},
   "outputs": [
    {
     "name": "stdout",
     "output_type": "stream",
     "text": [
      "             Age     Smokes      AreaQ     Alkhol     Result\n",
      "count  59.000000  59.000000  59.000000  59.000000  59.000000\n",
      "mean   42.627119  15.067797   5.203390   3.237288   0.474576\n",
      "std    16.235230   7.984607   2.461984   2.380517   0.503640\n",
      "min    18.000000   0.000000   1.000000   0.000000   0.000000\n",
      "25%    29.000000  10.000000   3.000000   1.000000   0.000000\n",
      "50%    39.000000  15.000000   5.000000   3.000000   0.000000\n",
      "75%    55.000000  20.000000   7.500000   5.000000   1.000000\n",
      "max    77.000000  34.000000  10.000000   8.000000   1.000000\n"
     ]
    }
   ],
   "source": [
    "# Splitting data set for training and testing\n",
    "from sklearn.model_selection import train_test_split\n",
    "x_train,x_test,y_train,y_test=train_test_split(x,y,test_size=0.3)\n",
    "print(lung.describe())"
   ]
  },
  {
   "cell_type": "code",
   "execution_count": 4,
   "id": "718b3de2",
   "metadata": {},
   "outputs": [
    {
     "name": "stdout",
     "output_type": "stream",
     "text": [
      "[[0.62711864 0.58823529 0.         0.5       ]\n",
      " [0.28813559 0.58823529 0.44444444 0.125     ]\n",
      " [0.74576271 0.44117647 0.44444444 0.625     ]\n",
      " [0.6440678  0.58823529 0.22222222 0.375     ]\n",
      " [0.96610169 0.44117647 0.22222222 0.625     ]\n",
      " [0.13559322 0.29411765 0.66666667 0.25      ]\n",
      " [0.62711864 0.44117647 0.         0.375     ]\n",
      " [0.20338983 0.         0.44444444 0.25      ]\n",
      " [0.49152542 0.44117647 0.         1.        ]\n",
      " [0.25423729 0.11764706 0.77777778 0.        ]\n",
      " [0.54237288 0.58823529 0.11111111 0.5       ]\n",
      " [0.25423729 0.73529412 0.77777778 0.25      ]\n",
      " [0.01694915 0.35294118 0.77777778 0.        ]\n",
      " [0.28813559 0.08823529 0.44444444 0.5       ]\n",
      " [0.27118644 0.         1.         0.        ]\n",
      " [0.57627119 0.52941176 0.33333333 0.625     ]\n",
      " [0.40677966 0.64705882 0.22222222 0.625     ]\n",
      " [0.22033898 0.58823529 0.88888889 0.5       ]]\n"
     ]
    }
   ],
   "source": [
    "#KNN algorithm\n",
    "# we use min max scaler to bring data into a common range\n",
    "\n",
    "from sklearn import preprocessing\n",
    "import numpy as np\n",
    "min_max_scaler=preprocessing.MinMaxScaler()\n",
    "min_max_scaler.fit(x_train)\n",
    "x_train=min_max_scaler.transform(x_train)\n",
    "x_test=min_max_scaler.transform(x_test)\n",
    "\n",
    "print(x_test)"
   ]
  },
  {
   "cell_type": "code",
   "execution_count": 5,
   "id": "91188e03",
   "metadata": {},
   "outputs": [
    {
     "name": "stdout",
     "output_type": "stream",
     "text": [
      "[1 0 1 1 1 0 1 0 1 0 1 0 0 0 0 1 1 0]\n"
     ]
    }
   ],
   "source": [
    "# setting value of 'k', training and running prediction\n",
    "\n",
    "from sklearn.neighbors import KNeighborsClassifier\n",
    "model1=KNeighborsClassifier(n_neighbors=5)\n",
    "model1.fit(x_train,y_train) # training\n",
    "y_pred1=model1.predict(x_test) # testing\n",
    "print(y_pred1)"
   ]
  },
  {
   "cell_type": "code",
   "execution_count": 6,
   "id": "cb45ac26",
   "metadata": {},
   "outputs": [
    {
     "name": "stdout",
     "output_type": "stream",
     "text": [
      "0.9444444444444444\n",
      "[[8 0]\n",
      " [1 9]]\n",
      "              precision    recall  f1-score   support\n",
      "\n",
      "           0       0.89      1.00      0.94         8\n",
      "           1       1.00      0.90      0.95        10\n",
      "\n",
      "    accuracy                           0.94        18\n",
      "   macro avg       0.94      0.95      0.94        18\n",
      "weighted avg       0.95      0.94      0.94        18\n",
      "\n"
     ]
    }
   ],
   "source": [
    "# Performance evaluation\n",
    "# Even if the dataset is fully balanced, we'll also print the classification report along with accuracy of algorithm\n",
    "# and confusion matrix for the data set\n",
    "\n",
    "from sklearn.metrics import accuracy_score,confusion_matrix,classification_report\n",
    "acc=accuracy_score(y_test,y_pred1)\n",
    "matrix=confusion_matrix(y_test,y_pred1)\n",
    "report=classification_report(y_test,y_pred1)\n",
    "print(acc)\n",
    "print(matrix)\n",
    "print(report)"
   ]
  },
  {
   "cell_type": "code",
   "execution_count": 7,
   "id": "1c8ab43d",
   "metadata": {},
   "outputs": [
    {
     "name": "stdout",
     "output_type": "stream",
     "text": [
      "[1 0 1 1 1 0 1 0 1 0 1 0 0 1 0 1 1 0]\n"
     ]
    }
   ],
   "source": [
    "# Naive Bayes algorithm\n",
    "\n",
    "from sklearn.naive_bayes import GaussianNB # we use gaussian as the input labels are continious not categorical\n",
    "model2=GaussianNB()\n",
    "model2.fit(x_train,y_train) # training\n",
    "y_pred2=model2.predict(x_test) # testing\n",
    "print(y_pred2)"
   ]
  },
  {
   "cell_type": "code",
   "execution_count": 8,
   "id": "4ba3f86c",
   "metadata": {},
   "outputs": [
    {
     "name": "stdout",
     "output_type": "stream",
     "text": [
      "1.0\n",
      "[[ 8  0]\n",
      " [ 0 10]]\n",
      "              precision    recall  f1-score   support\n",
      "\n",
      "           0       1.00      1.00      1.00         8\n",
      "           1       1.00      1.00      1.00        10\n",
      "\n",
      "    accuracy                           1.00        18\n",
      "   macro avg       1.00      1.00      1.00        18\n",
      "weighted avg       1.00      1.00      1.00        18\n",
      "\n"
     ]
    }
   ],
   "source": [
    "# Performance evaluation\n",
    "\n",
    "from sklearn.metrics import accuracy_score,confusion_matrix,classification_report\n",
    "acc=accuracy_score(y_test,y_pred2)\n",
    "matrix=confusion_matrix(y_test,y_pred2)\n",
    "report=classification_report(y_test,y_pred2)\n",
    "print(acc)\n",
    "print(matrix)\n",
    "print(report)"
   ]
  },
  {
   "cell_type": "code",
   "execution_count": 9,
   "id": "68f3ea3e",
   "metadata": {},
   "outputs": [],
   "source": [
    "# SVM algorithm\n",
    "# Using Standard scaler to bring values to a common range.\n",
    "\n",
    "from sklearn.preprocessing import StandardScaler\n",
    "scaler=StandardScaler()\n",
    "scaler.fit(x_train)\n",
    "x_train=scaler.transform(x_train)\n",
    "x_test=scaler.transform(x_test)"
   ]
  },
  {
   "cell_type": "code",
   "execution_count": 10,
   "id": "c5e41e2e",
   "metadata": {},
   "outputs": [],
   "source": [
    "# Importing SVM alg.\n",
    "from sklearn.svm import SVC\n",
    "classifier=SVC()\n",
    "classifier.fit(x_train,y_train) #training\n",
    "y_pred3=classifier.predict(x_test) #testing"
   ]
  },
  {
   "cell_type": "code",
   "execution_count": 11,
   "id": "86df822b",
   "metadata": {},
   "outputs": [
    {
     "name": "stdout",
     "output_type": "stream",
     "text": [
      "0.9444444444444444\n",
      "[[8 0]\n",
      " [1 9]]\n",
      "              precision    recall  f1-score   support\n",
      "\n",
      "           0       0.89      1.00      0.94         8\n",
      "           1       1.00      0.90      0.95        10\n",
      "\n",
      "    accuracy                           0.94        18\n",
      "   macro avg       0.94      0.95      0.94        18\n",
      "weighted avg       0.95      0.94      0.94        18\n",
      "\n"
     ]
    }
   ],
   "source": [
    "# Performance evaluation\n",
    "from sklearn.metrics import accuracy_score,confusion_matrix,classification_report\n",
    "acc=accuracy_score(y_test,y_pred3)\n",
    "matrix=confusion_matrix(y_test,y_pred3)\n",
    "report=classification_report(y_test,y_pred3)\n",
    "print(acc)\n",
    "print(matrix)\n",
    "print(report)"
   ]
  },
  {
   "cell_type": "code",
   "execution_count": null,
   "id": "d49f8053",
   "metadata": {},
   "outputs": [],
   "source": []
  }
 ],
 "metadata": {
  "kernelspec": {
   "display_name": "Python 3 (ipykernel)",
   "language": "python",
   "name": "python3"
  },
  "language_info": {
   "codemirror_mode": {
    "name": "ipython",
    "version": 3
   },
   "file_extension": ".py",
   "mimetype": "text/x-python",
   "name": "python",
   "nbconvert_exporter": "python",
   "pygments_lexer": "ipython3",
   "version": "3.9.12"
  }
 },
 "nbformat": 4,
 "nbformat_minor": 5
}
